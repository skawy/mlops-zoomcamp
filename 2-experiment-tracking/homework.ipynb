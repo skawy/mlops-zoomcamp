{
 "cells": [
  {
   "cell_type": "code",
   "execution_count": 1,
   "id": "9b63a31d",
   "metadata": {},
   "outputs": [
    {
     "name": "stdout",
     "output_type": "stream",
     "text": [
      "Python 3.11.13\n"
     ]
    }
   ],
   "source": [
    "!python -V"
   ]
  },
  {
   "cell_type": "code",
   "execution_count": 2,
   "id": "ac5db56e",
   "metadata": {},
   "outputs": [
    {
     "name": "stdout",
     "output_type": "stream",
     "text": [
      "mlflow, version 2.18.0\n"
     ]
    }
   ],
   "source": [
    "!mlflow --version"
   ]
  },
  {
   "cell_type": "code",
   "execution_count": 3,
   "id": "d54e0d8e-73e1-41b3-9dc0-b9d31ffbc9e1",
   "metadata": {},
   "outputs": [],
   "source": [
    "import mlflow\n",
    "\n"
   ]
  },
  {
   "cell_type": "code",
   "execution_count": 4,
   "id": "8f77a37b",
   "metadata": {},
   "outputs": [
    {
     "name": "stderr",
     "output_type": "stream",
     "text": [
      "2025/08/09 21:12:00 INFO mlflow.tracking.fluent: Experiment with name 'experiment-tracking' does not exist. Creating a new experiment.\n"
     ]
    },
    {
     "data": {
      "text/plain": [
       "<Experiment: artifact_location='/workspaces/mlops-zoomcamp/2-experiment-tracking/mlruns/1', creation_time=1754773920247, experiment_id='1', last_update_time=1754773920247, lifecycle_stage='active', name='experiment-tracking', tags={}>"
      ]
     },
     "execution_count": 4,
     "metadata": {},
     "output_type": "execute_result"
    }
   ],
   "source": [
    "mlflow.set_tracking_uri(\"sqlite:///mlflow2.db\")\n",
    "mlflow.set_experiment(\"experiment-tracking\")"
   ]
  },
  {
   "cell_type": "markdown",
   "id": "230b1154",
   "metadata": {},
   "source": [
    "### 1) How many files were saved to OUTPUT_FOLDER?"
   ]
  },
  {
   "cell_type": "markdown",
   "id": "e8ecc690",
   "metadata": {},
   "source": [
    "### 4\n"
   ]
  },
  {
   "cell_type": "code",
   "execution_count": 5,
   "id": "0e25ff1d",
   "metadata": {},
   "outputs": [],
   "source": [
    "import os\n",
    "import pickle\n",
    "import click\n",
    "\n",
    "from sklearn.ensemble import RandomForestRegressor\n",
    "from sklearn.metrics import root_mean_squared_error\n"
   ]
  },
  {
   "cell_type": "code",
   "execution_count": 6,
   "id": "480090fe",
   "metadata": {},
   "outputs": [],
   "source": [
    "def load_pickle(filename: str):\n",
    "    with open(filename, \"rb\") as f_in:\n",
    "        return pickle.load(f_in)"
   ]
  },
  {
   "cell_type": "code",
   "execution_count": 1,
   "id": "f364ff4e-4536-400b-8b68-1f4504ca1085",
   "metadata": {},
   "outputs": [
    {
     "name": "stdout",
     "output_type": "stream",
     "text": [
      "1.5.2\n"
     ]
    }
   ],
   "source": [
    "import sklearn\n",
    "print(sklearn.__version__)\n"
   ]
  },
  {
   "cell_type": "code",
   "execution_count": 7,
   "id": "02b88124",
   "metadata": {},
   "outputs": [
    {
     "name": "stderr",
     "output_type": "stream",
     "text": [
      "2025/08/09 21:12:39 WARNING mlflow.utils.autologging_utils: MLflow sklearn autologging is known to be compatible with 0.24.1 <= scikit-learn <= 1.5.2, but the installed version is 1.7.1. If you encounter errors during autologging, try upgrading / downgrading scikit-learn to a compatible version, or try upgrading MLflow.\n",
      "2025/08/09 21:12:40 WARNING mlflow.sklearn: Failed to log training dataset information to MLflow Tracking. Reason: 'numpy.ndarray' object has no attribute 'toarray'\n"
     ]
    }
   ],
   "source": [
    "data_path = \"output\"\n",
    "\n",
    "mlflow.sklearn.autolog()\n",
    "\n",
    "with mlflow.start_run():\n",
    "    # mlflow.set_tag(\"moel\", \"random_forest\")\n",
    "    max_depth = 10\n",
    "    # mlflow.log_param(\"max_depth\", max_depth)\n",
    "    random_state = 0\n",
    "    # mlflow.log_param(\"random_state\", random_state)\n",
    "\n",
    "    X_train, y_train = load_pickle(os.path.join(data_path, \"train.pkl\"))\n",
    "    X_val, y_val = load_pickle(os.path.join(data_path, \"val.pkl\"))\n",
    "\n",
    "    rf = RandomForestRegressor(max_depth=max_depth, random_state=random_state)\n",
    "    rf.fit(X_train, y_train)\n",
    "    y_pred = rf.predict(X_val)\n",
    "\n",
    "    rmse = root_mean_squared_error(y_val, y_pred)\n",
    "    # mlflow.log_metric(\"rmse\", rmse)\n",
    "\n"
   ]
  },
  {
   "cell_type": "code",
   "execution_count": null,
   "id": "c4f09794",
   "metadata": {},
   "outputs": [],
   "source": []
  }
 ],
 "metadata": {
  "kernelspec": {
   "display_name": "Python 3 (ipykernel)",
   "language": "python",
   "name": "python3"
  },
  "language_info": {
   "codemirror_mode": {
    "name": "ipython",
    "version": 3
   },
   "file_extension": ".py",
   "mimetype": "text/x-python",
   "name": "python",
   "nbconvert_exporter": "python",
   "pygments_lexer": "ipython3",
   "version": "3.11.13"
  }
 },
 "nbformat": 4,
 "nbformat_minor": 5
}
